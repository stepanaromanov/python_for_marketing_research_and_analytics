{
 "cells": [
  {
   "cell_type": "code",
   "execution_count": 1,
   "id": "af594097-a6bd-4f6c-918f-7e025c068198",
   "metadata": {},
   "outputs": [],
   "source": [
    "# import libraries and data\n",
    "import pandas as pd\n",
    "import numpy as np\n",
    "from matplotlib import pyplot as plt\n",
    "plt.style.use('ggplot')\n",
    "data = pd.read_csv('cookie_cats.csv')"
   ]
  },
  {
   "cell_type": "code",
   "execution_count": 2,
   "id": "a7dbe0f9-a002-4170-ba1a-642b39654461",
   "metadata": {},
   "outputs": [],
   "source": [
    "# add mock age groups to dataset\n",
    "age_group_code = pd.Series(np.random.randint(1, 8, data.shape[0]))\n",
    "age_group_dict = {1: \"0-18 years\", \n",
    "                  2: \"19-24 years\", \n",
    "                  3: \"25-30 years\", \n",
    "                  4: \"30-36 years\", \n",
    "                  5: \"37-45 years\", \n",
    "                  6: \"46-55 years\", \n",
    "                  7: \"55+ years\"}\n",
    "data['age_group'] = age_group_code.map(age_group_dict)"
   ]
  },
  {
   "cell_type": "code",
   "execution_count": 3,
   "id": "18cc88a0-a2ac-4a15-8e95-f93696304155",
   "metadata": {},
   "outputs": [],
   "source": [
    "# add mock marketing channel to dataset\n",
    "marketing_channel_code = pd.Series(np.random.randint(1, 6, data.shape[0]))\n",
    "marketing_channel_dict = {1: \"Facebook\", \n",
    "                          2: \"Instagram\", \n",
    "                          3: \"Push\", \n",
    "                          4: \"Google\", \n",
    "                          5: \"Email\"}\n",
    "data['marketing_channel'] = marketing_channel_code.map(marketing_channel_dict)"
   ]
  },
  {
   "cell_type": "code",
   "execution_count": 4,
   "id": "f3d69da9-5a34-445a-a86a-4a0e3a205d4e",
   "metadata": {
    "scrolled": true
   },
   "outputs": [
    {
     "data": {
      "text/html": [
       "<div>\n",
       "<style scoped>\n",
       "    .dataframe tbody tr th:only-of-type {\n",
       "        vertical-align: middle;\n",
       "    }\n",
       "\n",
       "    .dataframe tbody tr th {\n",
       "        vertical-align: top;\n",
       "    }\n",
       "\n",
       "    .dataframe thead th {\n",
       "        text-align: right;\n",
       "    }\n",
       "</style>\n",
       "<table border=\"1\" class=\"dataframe\">\n",
       "  <thead>\n",
       "    <tr style=\"text-align: right;\">\n",
       "      <th></th>\n",
       "      <th>userid</th>\n",
       "      <th>version</th>\n",
       "      <th>sum_gamerounds</th>\n",
       "      <th>converted</th>\n",
       "      <th>retention_7</th>\n",
       "      <th>age_group</th>\n",
       "      <th>marketing_channel</th>\n",
       "      <th>subscribed</th>\n",
       "    </tr>\n",
       "  </thead>\n",
       "  <tbody>\n",
       "    <tr>\n",
       "      <th>0</th>\n",
       "      <td>116</td>\n",
       "      <td>gate_30</td>\n",
       "      <td>3</td>\n",
       "      <td>False</td>\n",
       "      <td>False</td>\n",
       "      <td>46-55 years</td>\n",
       "      <td>Google</td>\n",
       "      <td>2023-11-03</td>\n",
       "    </tr>\n",
       "    <tr>\n",
       "      <th>1</th>\n",
       "      <td>337</td>\n",
       "      <td>gate_30</td>\n",
       "      <td>38</td>\n",
       "      <td>True</td>\n",
       "      <td>False</td>\n",
       "      <td>55+ years</td>\n",
       "      <td>Instagram</td>\n",
       "      <td>2023-11-08</td>\n",
       "    </tr>\n",
       "    <tr>\n",
       "      <th>2</th>\n",
       "      <td>377</td>\n",
       "      <td>gate_40</td>\n",
       "      <td>165</td>\n",
       "      <td>True</td>\n",
       "      <td>False</td>\n",
       "      <td>30-36 years</td>\n",
       "      <td>Push</td>\n",
       "      <td>2023-11-11</td>\n",
       "    </tr>\n",
       "    <tr>\n",
       "      <th>3</th>\n",
       "      <td>483</td>\n",
       "      <td>gate_40</td>\n",
       "      <td>1</td>\n",
       "      <td>False</td>\n",
       "      <td>False</td>\n",
       "      <td>19-24 years</td>\n",
       "      <td>Push</td>\n",
       "      <td>2023-11-08</td>\n",
       "    </tr>\n",
       "    <tr>\n",
       "      <th>4</th>\n",
       "      <td>488</td>\n",
       "      <td>gate_40</td>\n",
       "      <td>179</td>\n",
       "      <td>True</td>\n",
       "      <td>True</td>\n",
       "      <td>37-45 years</td>\n",
       "      <td>Facebook</td>\n",
       "      <td>2023-11-06</td>\n",
       "    </tr>\n",
       "  </tbody>\n",
       "</table>\n",
       "</div>"
      ],
      "text/plain": [
       "   userid  version  sum_gamerounds  converted  retention_7    age_group  \\\n",
       "0     116  gate_30               3      False        False  46-55 years   \n",
       "1     337  gate_30              38       True        False    55+ years   \n",
       "2     377  gate_40             165       True        False  30-36 years   \n",
       "3     483  gate_40               1      False        False  19-24 years   \n",
       "4     488  gate_40             179       True         True  37-45 years   \n",
       "\n",
       "  marketing_channel subscribed  \n",
       "0            Google 2023-11-03  \n",
       "1         Instagram 2023-11-08  \n",
       "2              Push 2023-11-11  \n",
       "3              Push 2023-11-08  \n",
       "4          Facebook 2023-11-06  "
      ]
     },
     "execution_count": 4,
     "metadata": {},
     "output_type": "execute_result"
    }
   ],
   "source": [
    "# add mock subscription date to dataset\n",
    "data['subscribed'] = np.random.randint(1, 16, data.shape[0])\n",
    "data['subscribed'] = data.apply(lambda x: '2023-11-' + str(x['subscribed']) \\\n",
    "                                if len(str(x['subscribed'])) == 2 \\\n",
    "                                else '2023-11-0' + str(x['subscribed']), axis=1)\n",
    "data['subscribed'] = pd.to_datetime(data['subscribed'], format='%Y-%m-%d')\n",
    "# we will count retention_1 column as subscription\n",
    "data.rename(columns={'retention_1':'converted'}, inplace=True)\n",
    "data.head()"
   ]
  },
  {
   "cell_type": "code",
   "execution_count": 5,
   "id": "66f1a476-b870-45b7-85a6-8b70d7d65326",
   "metadata": {},
   "outputs": [
    {
     "data": {
      "image/png": "[encoded data removed]",
      "text/plain": [
       "<Figure size 640x480 with 1 Axes>"
      ]
     },
     "metadata": {},
     "output_type": "display_data"
    }
   ],
   "source": [
    "# aggregate unique users that subscribed by date\n",
    "daily_users = data.groupby('subscribed')['userid'].nunique()\n",
    "# plot\n",
    "daily_users.plot()\n",
    "# annotate \n",
    "plt.title('Daily number of users who subscribed')\n",
    "plt.xlabel('Date')\n",
    "plt.ylabel('Number of users')\n",
    "plt.ylim(0, 10000)\n",
    "plt.show()"
   ]
  },
  {
   "cell_type": "code",
   "execution_count": 12,
   "id": "c197fb0f-5f70-4006-bf9e-41f98f1fdd5d",
   "metadata": {},
   "outputs": [
    {
     "name": "stdout",
     "output_type": "stream",
     "text": [
      "Conversion rate for version gate_30 is 44.82%\n",
      "Conversion rate for version gate_40 is 44.23%\n"
     ]
    }
   ],
   "source": [
    "# calculate conversion rate for both versions\n",
    "gate_30_converted = data[(data['version'] == 'gate_30') & (data['converted'] == True)]['userid'].nunique()\n",
    "gate_40_converted = data[(data['version'] == 'gate_40') & (data['converted'] == True)]['userid'].nunique()\n",
    "\n",
    "gate_30_total = data[data['version'] == 'gate_30']['userid'].nunique()\n",
    "gate_40_total = data[data['version'] == 'gate_40']['userid'].nunique()\n",
    "\n",
    "print(f\"Conversion rate for version gate_30 is {round(gate_30_converted / gate_30_total * 100, 2)}%\")\n",
    "print(f\"Conversion rate for version gate_40 is {round(gate_40_converted / gate_40_total * 100, 2)}%\")"
   ]
  },
  {
   "cell_type": "code",
   "execution_count": 14,
   "id": "c9ad954a-2246-4fa3-867f-cbf63385b413",
   "metadata": {},
   "outputs": [
    {
     "name": "stdout",
     "output_type": "stream",
     "text": [
      "Retention rate for version gate_30 is 42.44%\n",
      "Retention rate for version gate_40 is 41.15%\n"
     ]
    }
   ],
   "source": [
    "# calculate retention rate for both versions\n",
    "gate_30_retained = data[(data['version'] == 'gate_30') & (data['retention_7'] == True)]['userid'].nunique()\n",
    "gate_40_retained = data[(data['version'] == 'gate_40') & (data['retention_7'] == True)]['userid'].nunique()\n",
    "\n",
    "print(f\"Retention rate for version gate_30 is {round(gate_30_retained / gate_30_converted * 100, 2)}%\")\n",
    "print(f\"Retention rate for version gate_40 is {round(gate_40_retained / gate_40_converted * 100, 2)}%\")"
   ]
  }
 ],
 "metadata": {
  "kernelspec": {
   "display_name": "Python 3 (ipykernel)",
   "language": "python",
   "name": "python3"
  },
  "language_info": {
   "codemirror_mode": {
    "name": "ipython",
    "version": 3
   },
   "file_extension": ".py",
   "mimetype": "text/x-python",
   "name": "python",
   "nbconvert_exporter": "python",
   "pygments_lexer": "ipython3",
   "version": "3.10.12"
  }
 },
 "nbformat": 4,
 "nbformat_minor": 5
}
